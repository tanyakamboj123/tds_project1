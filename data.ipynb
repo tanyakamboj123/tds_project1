{
 "cells": [
  {
   "cell_type": "code",
   "execution_count": 3,
   "metadata": {},
   "outputs": [],
   "source": [
    "import pandas as pd"
   ]
  },
  {
   "cell_type": "code",
   "execution_count": 4,
   "metadata": {},
   "outputs": [],
   "source": [
    "users_df = pd.read_csv(\"users.csv\")"
   ]
  },
  {
   "cell_type": "code",
   "execution_count": 10,
   "metadata": {},
   "outputs": [],
   "source": [
    "# Load the data from repositories.csv\n",
    "repos_df = pd.read_csv(\"repositories.csv\")"
   ]
  },
  {
   "cell_type": "code",
   "execution_count": 6,
   "metadata": {},
   "outputs": [
    {
     "name": "stdout",
     "output_type": "stream",
     "text": [
      "Ans 1: Top 5 users with the highest number of followers: dennybritz, wasabeef, dai-shi, rui314, domenic\n"
     ]
    }
   ],
   "source": [
    "top_users_five_tokyo = users_df.sort_values(by='followers', ascending=False).head(5)['login'].tolist()\n",
    "print(\"Ans 1: Top 5 users with the highest number of followers:\", \", \".join(top_users_five_tokyo))"
   ]
  },
  {
   "cell_type": "code",
   "execution_count": 7,
   "metadata": {},
   "outputs": [],
   "source": [
    "users_df['created_at'] = pd.to_datetime(users_df['created_at'])"
   ]
  },
  {
   "cell_type": "code",
   "execution_count": 8,
   "metadata": {},
   "outputs": [],
   "source": [
    "# Sort users by the 'created_at' column in ascending order and get the top 5\n",
    "earliest_users = users_df.sort_values(by=\"created_at\", ascending=True).head(5)"
   ]
  },
  {
   "cell_type": "code",
   "execution_count": 9,
   "metadata": {},
   "outputs": [
    {
     "name": "stdout",
     "output_type": "stream",
     "text": [
      "5 earliest registered GitHub users in Tokyo:\n",
      "kana, naoya, ko1, amatsuda, masuidrive\n"
     ]
    }
   ],
   "source": [
    "# Extract the 'login' column and join the values into a comma-separated string\n",
    "earliest_users_logins = \", \".join(earliest_users[\"login\"])\n",
    "\n",
    "print(\"5 earliest registered GitHub users in Tokyo:\")\n",
    "print(earliest_users_logins)"
   ]
  },
  {
   "cell_type": "code",
   "execution_count": 14,
   "metadata": {},
   "outputs": [
    {
     "name": "stdout",
     "output_type": "stream",
     "text": [
      "3 most popular licenses:\n",
      "mit, other, apache-2.0\n"
     ]
    }
   ],
   "source": [
    "# Step 1: Filter out rows with missing or null license_name\n",
    "repos_with_license = repos_df.dropna(subset=[\"license_name\"])\n",
    "\n",
    "# Step 2: Count occurrences of each license and get the top 3 most common\n",
    "top_licenses = repos_with_license[\"license_name\"].value_counts().head(3)\n",
    "\n",
    "# Step 3: Extract the license names and join them into a comma-separated string\n",
    "top_licenses_list = \", \".join(top_licenses.index)\n",
    "\n",
    "print(\"3 most popular licenses:\")\n",
    "print(top_licenses_list)"
   ]
  }
 ],
 "metadata": {
  "kernelspec": {
   "display_name": ".venv",
   "language": "python",
   "name": "python3"
  },
  "language_info": {
   "codemirror_mode": {
    "name": "ipython",
    "version": 3
   },
   "file_extension": ".py",
   "mimetype": "text/x-python",
   "name": "python",
   "nbconvert_exporter": "python",
   "pygments_lexer": "ipython3",
   "version": "3.11.9"
  }
 },
 "nbformat": 4,
 "nbformat_minor": 2
}
